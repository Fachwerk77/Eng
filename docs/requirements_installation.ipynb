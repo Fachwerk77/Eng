{
 "cells": [
  {
   "metadata": {},
   "cell_type": "markdown",
   "source": [
    "# Python-Bibliotheken Installation Guide\n",
    "\n",
    "Dieser Notebook führt Sie durch die Installation der wichtigsten Python-Bibliotheken für Data Science und Machine Learning.\n",
    "\n",
    "## Gruppen von Bibliotheken:\n",
    "1. **Basis-Bibliotheken**: Grundlegende Pakete für wissenschaftliches Rechnen und Datenanalyse\n",
    "2. **Machine Learning Bibliotheken**: Frameworks für maschinelles Lernen und Deep Learning\n",
    "3. **Entwicklungswerkzeuge**: Zusätzliche Tools für die Entwicklung"
   ],
   "id": "61f58a5486b47cbe"
  },
  {
   "metadata": {},
   "cell_type": "code",
   "outputs": [],
   "execution_count": null,
   "source": [
    "# Basis-Bibliotheken Installation\n",
    "!pip install numpy\n",
    "!pip install pandas\n",
    "!pip install matplotlib\n",
    "!pip install seaborn"
   ],
   "id": "2aa3168bbc562d1f"
  },
  {
   "metadata": {},
   "cell_type": "code",
   "outputs": [],
   "execution_count": null,
   "source": [
    "# Machine Learning Bibliotheken\n",
    "!pip install tensorflow\n",
    "!pip install torch torchvision\n",
    "!pip install scikit-learn\n",
    "!pip install xgboost\n",
    "!pip install lightgbm"
   ],
   "id": "16ee534c47f67e49"
  },
  {
   "metadata": {},
   "cell_type": "code",
   "outputs": [],
   "execution_count": null,
   "source": [
    "# Entwicklungswerkzeuge und zusätzliche Bibliotheken\n",
    "!pip install jupyter\n",
    "!pip install ipywidgets\n",
    "!pip install pytest\n",
    "!pip install black\n",
    "!pip install pylint\n",
    "!pip install autopep8\n",
    "!pip install notebook"
   ],
   "id": "de80c52ade66e52d"
  }
 ],
 "metadata": {
  "kernelspec": {
   "display_name": "Python 3",
   "language": "python",
   "name": "python3"
  },
  "language_info": {
   "codemirror_mode": {
    "name": "ipython",
    "version": 2
   },
   "file_extension": ".py",
   "mimetype": "text/x-python",
   "name": "python",
   "nbconvert_exporter": "python",
   "pygments_lexer": "ipython2",
   "version": "2.7.6"
  }
 },
 "nbformat": 4,
 "nbformat_minor": 5
}
